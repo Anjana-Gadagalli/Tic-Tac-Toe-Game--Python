{
 "cells": [
  {
   "cell_type": "markdown",
   "id": "a02d3892",
   "metadata": {},
   "source": [
    "To clear the screen between moves:\n",
    "\n",
    "   from IPython.display import clear_output\n",
    "   clear_output()\n",
    "\n",
    "Note that clear_output() will only work in jupyter. To clear the screen in other IDEs, consider:\n",
    "   print('\\n'*100)\n",
    "   \n",
    "This scrolls the previous board up out of view. Now on to the program!"
   ]
  },
  {
   "cell_type": "markdown",
   "id": "2729acdd",
   "metadata": {},
   "source": [
    "##### Setting up board as a list, where each index 1-9 corresponds with a number on a number pad, so you get a 3 by 3 board representation."
   ]
  },
  {
   "cell_type": "code",
   "execution_count": 1,
   "id": "e95e8a4d",
   "metadata": {},
   "outputs": [],
   "source": [
    "from IPython.display import clear_output"
   ]
  },
  {
   "cell_type": "code",
   "execution_count": 2,
   "id": "dd8068cf",
   "metadata": {},
   "outputs": [],
   "source": [
    "def display_board(board):\n",
    "    clear_output() # this only works in jupyter!\n",
    "    \n",
    "    print('   |   |')\n",
    "    print(' ' + board[7] + ' | ' + board[8] + ' | ' + board[9])\n",
    "    print('   |   |')\n",
    "    print('-----------')\n",
    "    print('   |   |')\n",
    "    print(' ' + board[4] + ' | ' + board[5] + ' | ' + board[6])\n",
    "    print('   |   |')\n",
    "    print('-----------')\n",
    "    print('   |   |')\n",
    "    print(' ' + board[1] + ' | ' + board[2] + ' | ' + board[3])\n",
    "    print('   |   |')"
   ]
  },
  {
   "cell_type": "code",
   "execution_count": 3,
   "id": "6c7fffde",
   "metadata": {},
   "outputs": [
    {
     "name": "stdout",
     "output_type": "stream",
     "text": [
      "   |   |\n",
      " X | O | X\n",
      "   |   |\n",
      "-----------\n",
      "   |   |\n",
      " O | X | O\n",
      "   |   |\n",
      "-----------\n",
      "   |   |\n",
      " X | O | X\n",
      "   |   |\n"
     ]
    }
   ],
   "source": [
    "board=['O','X']*5\n",
    "display_board(board)"
   ]
  },
  {
   "cell_type": "markdown",
   "id": "24469ddb",
   "metadata": {},
   "source": [
    "##### Taking in a player input and assign their marker as 'X' or 'O'. Using while loops to continually ask until you get a correct answer."
   ]
  },
  {
   "cell_type": "code",
   "execution_count": 4,
   "id": "feb85dc6",
   "metadata": {},
   "outputs": [],
   "source": [
    "def player_input():\n",
    "    marker='Wrong'\n",
    "    \n",
    "    while marker not in['X','O']:\n",
    "        marker=input('Player 1: please choose X or O ').upper()\n",
    "        \n",
    "        if marker =='X':\n",
    "            return ('X','O')\n",
    "    \n",
    "        if marker=='O':\n",
    "            return ('O','X')\n",
    "    \n",
    "        else:\n",
    "            print('Choose only X or O')\n",
    "    \n",
    "    \n",
    "   "
   ]
  },
  {
   "cell_type": "code",
   "execution_count": 5,
   "id": "2e87793d",
   "metadata": {},
   "outputs": [
    {
     "name": "stdout",
     "output_type": "stream",
     "text": [
      "Player 1: please choose X or O x\n"
     ]
    },
    {
     "data": {
      "text/plain": [
       "('X', 'O')"
      ]
     },
     "execution_count": 5,
     "metadata": {},
     "output_type": "execute_result"
    }
   ],
   "source": [
    "player_input()"
   ]
  },
  {
   "cell_type": "code",
   "execution_count": 6,
   "id": "85fea929",
   "metadata": {
    "scrolled": true
   },
   "outputs": [
    {
     "name": "stdout",
     "output_type": "stream",
     "text": [
      "Player 1: please choose X or O x\n"
     ]
    }
   ],
   "source": [
    "player1_marker, player2_marker= player_input()"
   ]
  },
  {
   "cell_type": "code",
   "execution_count": 7,
   "id": "6eb23d73",
   "metadata": {},
   "outputs": [
    {
     "data": {
      "text/plain": [
       "'X'"
      ]
     },
     "execution_count": 7,
     "metadata": {},
     "output_type": "execute_result"
    }
   ],
   "source": [
    "player1_marker"
   ]
  },
  {
   "cell_type": "code",
   "execution_count": 8,
   "id": "a07a3c47",
   "metadata": {},
   "outputs": [
    {
     "data": {
      "text/plain": [
       "'O'"
      ]
     },
     "execution_count": 8,
     "metadata": {},
     "output_type": "execute_result"
    }
   ],
   "source": [
    "player2_marker"
   ]
  },
  {
   "cell_type": "markdown",
   "id": "e631a882",
   "metadata": {},
   "source": [
    "##### Function that uses the random module to randomly decide which player goes first. You may want to lookup random.randint() Return a string of which player went first."
   ]
  },
  {
   "cell_type": "code",
   "execution_count": 5,
   "id": "aab69b25",
   "metadata": {},
   "outputs": [],
   "source": [
    "import random\n",
    "\n",
    "def choose_first():\n",
    "    \n",
    "    if random.randint(0,1)==0:\n",
    "        return 'Player 1'\n",
    "    \n",
    "    else:\n",
    "        return 'Player 2'"
   ]
  },
  {
   "cell_type": "code",
   "execution_count": 6,
   "id": "1fcaa51d",
   "metadata": {},
   "outputs": [
    {
     "data": {
      "text/plain": [
       "'Player 2'"
      ]
     },
     "execution_count": 6,
     "metadata": {},
     "output_type": "execute_result"
    }
   ],
   "source": [
    "choose_first()"
   ]
  },
  {
   "cell_type": "markdown",
   "id": "1b15273f",
   "metadata": {},
   "source": [
    "##### Function that takes in the board list object, a marker ('X' or 'O'), and a desired position (number 1-9) and assigns it to the board."
   ]
  },
  {
   "cell_type": "code",
   "execution_count": 7,
   "id": "465a331f",
   "metadata": {},
   "outputs": [],
   "source": [
    "def place_marker(board,marker):\n",
    "    position=0\n",
    "    \n",
    "    while position not in range(1,10) or board[position] !=' ':\n",
    "        position=int(input(f'{turn} choose position1-9: '))\n",
    "        \n",
    "        if position not in range(1,10):\n",
    "            print('Out of range!')\n",
    "            continue\n",
    "        \n",
    "        if board[position]!=' ':\n",
    "            print('Space not available!')\n",
    "            continue\n",
    "        \n",
    "                  \n",
    "    board[position]=marker"
   ]
  },
  {
   "cell_type": "markdown",
   "id": "4fba15a7",
   "metadata": {},
   "source": [
    "##### Function that takes in a board and checks to see if someone has won."
   ]
  },
  {
   "cell_type": "code",
   "execution_count": 8,
   "id": "62ea44f4",
   "metadata": {},
   "outputs": [],
   "source": [
    "def win_check(board,marker):\n",
    "    return (board[1]==marker and board[2]==marker and board[3]==marker or\n",
    "    board[4]==marker and board[5]==marker and board[6]==marker or\n",
    "    board[7]==marker and board[8]==marker and board[9]==marker or\n",
    "    board[1]==marker and board[4]==marker and board[7]==marker or\n",
    "    board[2]==marker and board[5]==marker and board[8]==marker or\n",
    "    board[3]==marker and board[6]==marker and board[9]==marker or\n",
    "    board[1]==marker and board[5]==marker and board[9]==marker or\n",
    "    board[3]==marker and board[5]==marker and board[7]==marker)"
   ]
  },
  {
   "cell_type": "markdown",
   "id": "13039611",
   "metadata": {},
   "source": [
    "##### Function that checks if the board is full and returns a boolean value. True if full, False otherwise."
   ]
  },
  {
   "cell_type": "code",
   "execution_count": 9,
   "id": "f3184221",
   "metadata": {},
   "outputs": [],
   "source": [
    "def fullboard_check(board):\n",
    "    for i in range(1,10):\n",
    "        if board[i]==' ':\n",
    "            return False #  If an empty position is found, the board is not full\n",
    "    return True # If no empty positions are found, the board is full"
   ]
  },
  {
   "cell_type": "markdown",
   "id": "7e742fcd",
   "metadata": {},
   "source": [
    "##### Function that asks the player if they want to play again and returns a boolean True if they do want to play again."
   ]
  },
  {
   "cell_type": "code",
   "execution_count": 12,
   "id": "34762676",
   "metadata": {},
   "outputs": [],
   "source": [
    "def reply():\n",
    "    choice=input('Do you want to continue playing? Y or N:  ').upper()\n",
    "    \n",
    "    if choice=='Y':\n",
    "        return True\n",
    "    \n",
    "    if choice=='N':\n",
    "        print('Thank you!')\n",
    "        return False\n",
    "        \n",
    "        \n",
    "    else:\n",
    "        print('Sorry i dont understand, Y for yes and N for no')"
   ]
  },
  {
   "cell_type": "markdown",
   "id": "b41ea3d8",
   "metadata": {},
   "source": [
    "## GAME"
   ]
  },
  {
   "cell_type": "code",
   "execution_count": 14,
   "id": "5ce2fdb4",
   "metadata": {},
   "outputs": [
    {
     "name": "stdout",
     "output_type": "stream",
     "text": [
      "   |   |\n",
      " X | O | X\n",
      "   |   |\n",
      "-----------\n",
      "   |   |\n",
      " O | X | X\n",
      "   |   |\n",
      "-----------\n",
      "   |   |\n",
      " O | X | O\n",
      "   |   |\n",
      "Game is draw\n",
      "Do you want to continue playing? Y or N:  n\n",
      "Thank you!\n"
     ]
    }
   ],
   "source": [
    "print('WELCOME TO TIC TAC TOE')\n",
    "\n",
    "while True: # if replay is True then game will be restarted automatically\n",
    "    the_board=[' ']*10\n",
    "    player1_marker,player2_marker= player_input()\n",
    "    turn=choose_first()\n",
    "    print(turn + 'Goes first')\n",
    "    \n",
    "    game_on=True#This loop handles a single session, where player take turn until someone wins or game ends in draw\n",
    "    \n",
    "    \n",
    "    while game_on:\n",
    "        if turn=='Player 1':\n",
    "            display_board(the_board)\n",
    "            place_marker(the_board,player1_marker)\n",
    "\n",
    "            if win_check(the_board,player1_marker):\n",
    "                display_board(the_board)\n",
    "                print('Congratulations!, Player 1 has won the game')\n",
    "                game_on=False\n",
    "\n",
    "            else:\n",
    "                if fullboard_check(the_board):\n",
    "                    display_board(the_board)\n",
    "                    print('Game is draw')\n",
    "                    break\n",
    "\n",
    "                else:\n",
    "                    turn= 'Player 2'\n",
    "\n",
    "\n",
    "        # player 2 turn\n",
    "        else:\n",
    "            display_board(the_board)\n",
    "            place_marker(the_board,player2_marker)\n",
    "\n",
    "            if win_check(the_board,player2_marker):\n",
    "                display_board(the_board)\n",
    "                print('Congratulations!, Player 2 has won the game')\n",
    "                game_on=False\n",
    "\n",
    "            else:\n",
    "                if fullboard_check(the_board):\n",
    "                    display_board(the_board)\n",
    "                    print('Game is draw')\n",
    "                    break\n",
    "\n",
    "                else:\n",
    "                    turn='Player 1'\n",
    "                    \n",
    "    if not reply():\n",
    "        break      \n",
    "        "
   ]
  },
  {
   "cell_type": "markdown",
   "id": "88cca39c",
   "metadata": {},
   "source": [
    "###### "
   ]
  }
 ],
 "metadata": {
  "kernelspec": {
   "display_name": "Python 3 (ipykernel)",
   "language": "python",
   "name": "python3"
  },
  "language_info": {
   "codemirror_mode": {
    "name": "ipython",
    "version": 3
   },
   "file_extension": ".py",
   "mimetype": "text/x-python",
   "name": "python",
   "nbconvert_exporter": "python",
   "pygments_lexer": "ipython3",
   "version": "3.9.13"
  }
 },
 "nbformat": 4,
 "nbformat_minor": 5
}
